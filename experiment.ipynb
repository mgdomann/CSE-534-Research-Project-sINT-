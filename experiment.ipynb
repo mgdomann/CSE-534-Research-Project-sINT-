{
 "cells": [
  {
   "cell_type": "markdown",
   "id": "2a519f73-cdd2-4b28-a231-a2064f5e2191",
   "metadata": {
    "jp-MarkdownHeadingCollapsed": true,
    "tags": []
   },
   "source": [
    "# Lab 1 - Creating a Slice with a P4 Switch\n",
    "\n",
    "This lab will walk you through creating an experiment that contains a a P4 programmable switch. The P4 switch that we will use is a software switch known as the behavioral model (BMv2).  Specifically, the experiment deploys a slice with three nodes: two end-hosts and a P4 switch. The topology is shown in the figure below\n",
    "\n",
    "<img src=\"./labs_files/lab1/figs/fabric_topology.png\" width=\"550px\"><br>\n",
    "\n",
    "\n",
    "# Step 1:  Configure the Environment\n",
    "\n",
    "Before running this notebook, you will need to configure your environment using the [Configure Environment](../../../configure.ipynb) notebook. Please stop here, open and run that notebook, then return to this notebook.\n",
    "\n",
    "If you are using the FABRIC JupyterHub many of the environment variables will be automatically configured for you.  You will still need to set your bastion username, upload your bastion private key, and set the path to where you put your bastion private key. Your bastion username and private key should already be in your possession.  \n",
    "\n",
    "If you are using the FABRIC API outside of the JupyterHub you will need to configure all of the environment variables. Defaults below will be correct in many situations but you will need to confirm your configuration.  If you have questions about this configuration, please contact the FABRIC admins using the [FABRIC User Forum](https://learn.fabric-testbed.net/forums/) \n",
    "\n",
    "More information about accessing your experiments through the FABRIC bastion hosts can be found [here](https://learn.fabric-testbed.net/knowledge-base/logging-into-fabric-vms/).\n",
    " "
   ]
  },
  {
   "cell_type": "markdown",
   "id": "2b571c06-bfd5-464a-acf4-d28845c8e840",
   "metadata": {
    "tags": []
   },
   "source": [
    "# Step 2: Import the FABlib Library"
   ]
  },
  {
   "cell_type": "code",
   "execution_count": 1,
   "id": "2e9c3ea6-f0b5-4e34-9a4c-82785ff386c4",
   "metadata": {},
   "outputs": [],
   "source": [
    "from fabrictestbed_extensions.fablib.fablib import FablibManager as fablib_manager\n",
    "fablib = fablib_manager()"
   ]
  },
  {
   "cell_type": "markdown",
   "id": "c2913e89-4188-4ebf-a24c-01cedd16540b",
   "metadata": {
    "tags": []
   },
   "source": [
    "# Step 3: Create the Experiment Slice\n",
    "\n",
    "The following creates three node with basic compute and networking capabilities. You build a slice by creating a new slice and adding resources to the slice. After you build the slice, you must submit a request for the slice to be instantiated.   "
   ]
  },
  {
   "cell_type": "markdown",
   "id": "161198e4-00b0-4994-9de8-28e8bfb16cc8",
   "metadata": {
    "tags": []
   },
   "source": [
    "### Step 3.1: Create a slice\n",
    "The code below creates a new slice with the name \"lab1\""
   ]
  },
  {
   "cell_type": "code",
   "execution_count": 2,
   "id": "9c97d810-ac6a-4c04-892d-f0ddbe69954b",
   "metadata": {
    "tags": []
   },
   "outputs": [],
   "source": [
    "slice = fablib.new_slice(name=\"lab1\")"
   ]
  },
  {
   "cell_type": "markdown",
   "id": "a0f228eb-d12b-4644-bbc4-df2e34bbdce8",
   "metadata": {
    "tags": []
   },
   "source": [
    "### Step 3.2: Define the sites\n",
    "The code below requests three sites from FABRIC: INDI, STAR, and NCSA"
   ]
  },
  {
   "cell_type": "markdown",
   "id": "06c132e1-d2e2-4346-b10b-647d12d8049c",
   "metadata": {
    "tags": []
   },
   "source": [
    "<img src=\"./labs_files/lab1/figs/fabric_sites.png\" width=\"550px\"><br>"
   ]
  },
  {
   "cell_type": "code",
   "execution_count": 3,
   "id": "f28e0cf1-241d-4257-afbf-6aa44989d995",
   "metadata": {
    "tags": []
   },
   "outputs": [
    {
     "name": "stdout",
     "output_type": "stream",
     "text": [
      "The selected sites are MICH, STAR, NCSA\n"
     ]
    }
   ],
   "source": [
    "site1='MICH'\n",
    "site2='STAR'\n",
    "site3='NCSA'\n",
    "\n",
    "print (f'The selected sites are {site1}, {site2}, {site3}') "
   ]
  },
  {
   "cell_type": "markdown",
   "id": "0f71fead-a091-4af0-95ec-bb264c016c43",
   "metadata": {
    "tags": []
   },
   "source": [
    "### Step 3.3: Creating the nodes\n",
    "The code below creates two nodes: server1 and server2. The servers (server1 and server2) use the following:\n",
    "<ul>\n",
    "    <li> 4 CPU cores</li>\n",
    "    <li> 8GB RAM </li>\n",
    "    <li> 20GB disc size </li>\n",
    "    <li> Image: Ubuntu 20.04\n",
    "</ul>\n",
    "\n",
    "server1 will be created in site1 and server3 will be created in site3\n",
    "\n",
    "<img src=\"./labs_files/lab1/figs/creating_nodes.PNG\" width=\"550px\"><br>"
   ]
  },
  {
   "cell_type": "code",
   "execution_count": 4,
   "id": "7713728b-2740-4e72-b5dd-7d3963012536",
   "metadata": {
    "tags": []
   },
   "outputs": [],
   "source": [
    "server1 = slice.add_node(name=\"server1\", \n",
    "                      site=site1, \n",
    "                      cores=4, \n",
    "                      ram=8, \n",
    "                      disk=20, \n",
    "                      image='default_ubuntu_20')\n",
    "\n",
    "server2 = slice.add_node(name=\"server2\", \n",
    "                      site=site3, \n",
    "                      cores=4, \n",
    "                      ram=8, \n",
    "                      disk=20, \n",
    "                      image='default_ubuntu_20')"
   ]
  },
  {
   "cell_type": "markdown",
   "id": "525749aa-ea9e-4a4b-ac2e-0988d8f0b769",
   "metadata": {
    "tags": []
   },
   "source": [
    "### Step 3.4: Adding the interfaces to the servers\n",
    "The code below adds a Network Interface Card (NIC) to each server.\n",
    "\n",
    "<img src=\"./labs_files/lab1/figs/adding_nics.PNG\" width=\"550px\"><br>"
   ]
  },
  {
   "cell_type": "code",
   "execution_count": 5,
   "id": "6f08e680-9922-4517-8f87-99e86ed455be",
   "metadata": {
    "tags": []
   },
   "outputs": [],
   "source": [
    "server1_iface = server1.add_component(model='NIC_Basic').get_interfaces()[0]\n",
    "server2_iface = server2.add_component(model='NIC_Basic').get_interfaces()[0]"
   ]
  },
  {
   "cell_type": "markdown",
   "id": "9f1c2285-d01b-440c-9605-74fe816f4ee5",
   "metadata": {
    "tags": []
   },
   "source": [
    "### Step 3.5: Creating a node for the P4 switch\n",
    "The code below creates a node that will run the P4 switch. The node use the following\n",
    "<ul>\n",
    "    <li> 16 CPU cores</li>\n",
    "    <li> 8GB RAM </li>\n",
    "    <li> 40GB disc size </li>\n",
    "    <li> Image: Ubuntu 20.04\n",
    "</ul>\n",
    "\n",
    "The node will be created in site2\n",
    "\n",
    "<img src=\"./labs_files/lab1/figs/adding_switch.PNG\" width=\"550px\"><br>"
   ]
  },
  {
   "cell_type": "code",
   "execution_count": 6,
   "id": "d790f23e-0596-41a2-991d-65627d5cf5e6",
   "metadata": {
    "tags": []
   },
   "outputs": [],
   "source": [
    "# Add a node\n",
    "switch = slice.add_node(name=\"switch\", \n",
    "                      site=site2, \n",
    "                      cores=32, \n",
    "                      ram=16, \n",
    "                      disk=40, \n",
    "                      image='default_ubuntu_20')"
   ]
  },
  {
   "cell_type": "markdown",
   "id": "52c163c1-ab41-47cf-96b8-b02c8d3cb005",
   "metadata": {},
   "source": [
    "### Step 3.6: Adding two interfaces to the switch\n",
    "The code below adds two Network Interface Cards (NICs) to the switch.\n",
    "\n",
    "<img src=\"./labs_files/lab1/figs/adding_switch_ports.PNG\" width=\"550px\"><br>"
   ]
  },
  {
   "cell_type": "code",
   "execution_count": 7,
   "id": "420e3c86-0a63-49c1-81f0-8c75aea4213c",
   "metadata": {},
   "outputs": [],
   "source": [
    "switch_iface1 = switch.add_component(model='NIC_Basic', name='net1_nic').get_interfaces()[0]\n",
    "switch_iface2 = switch.add_component(model='NIC_Basic', name='net2_nic').get_interfaces()[0]"
   ]
  },
  {
   "cell_type": "markdown",
   "id": "c15ca24e-8743-4d4a-91ea-128dd78b4273",
   "metadata": {},
   "source": [
    "### Step 3.7: Connecting site1 and site2\n",
    "Create a site-to-site network between site1 and site2 connecting server1 and the P4 switch\n",
    "\n",
    "<img src=\"./labs_files/lab1/figs/connecting_nodes_server1_switch.PNG\" width=\"550px\"><br>"
   ]
  },
  {
   "cell_type": "code",
   "execution_count": 8,
   "id": "03859457-746d-402c-9372-9803df8928e9",
   "metadata": {},
   "outputs": [],
   "source": [
    "net1 = slice.add_l2network(name='net1', interfaces=[server1_iface, switch_iface1])"
   ]
  },
  {
   "cell_type": "markdown",
   "id": "8bbb0058-2d0c-4c65-bd14-615c6214e806",
   "metadata": {},
   "source": [
    "### Step 3.8: Connecting site2 and site3\n",
    "Create a site-to-site network between site2 and site3 connecting the P4 switch and server2\n",
    "\n",
    "<img src=\"./labs_files/lab1/figs/connecting_nodes_server2_switch.PNG\" width=\"550px\"><br>"
   ]
  },
  {
   "cell_type": "code",
   "execution_count": 9,
   "id": "8253d0a4-57d5-4359-93de-acc04071dc56",
   "metadata": {},
   "outputs": [],
   "source": [
    "net2 = slice.add_l2network(name='net2', interfaces=[switch_iface2, server2_iface])"
   ]
  },
  {
   "cell_type": "markdown",
   "id": "53ab345c-d68e-440d-9fda-03d67472f1ca",
   "metadata": {},
   "source": [
    "### Step 3.9: Submitting the slice\n",
    "The code below submits the slice. \n",
    "By default, the submit function will block until the node is ready and will display the progress of your slice being built."
   ]
  },
  {
   "cell_type": "code",
   "execution_count": 10,
   "id": "e706c53c-7a38-4615-a86e-e8944197921f",
   "metadata": {},
   "outputs": [
    {
     "name": "stdout",
     "output_type": "stream",
     "text": [
      "\n",
      "Retry: 10, Time: 312 sec\n"
     ]
    },
    {
     "data": {
      "text/html": [
       "<style type=\"text/css\">\n",
       "#T_5cb8f tr:nth-child(even) {\n",
       "  background: #dbf3ff;\n",
       "  color: #231f20;\n",
       "}\n",
       "#T_5cb8f tr:nth-child(odd) {\n",
       "  background: #ffffff;\n",
       "  color: #231f20;\n",
       "}\n",
       "#T_5cb8f caption {\n",
       "  text-align: center;\n",
       "  font-size: 150%;\n",
       "}\n",
       "#T_5cb8f_row0_col0, #T_5cb8f_row0_col1, #T_5cb8f_row1_col0, #T_5cb8f_row1_col1, #T_5cb8f_row2_col0, #T_5cb8f_row2_col1, #T_5cb8f_row3_col0, #T_5cb8f_row3_col1, #T_5cb8f_row4_col0, #T_5cb8f_row4_col1, #T_5cb8f_row5_col0 {\n",
       "  text-align: left;\n",
       "  border: 1px #231f20 solid !important;\n",
       "  overwrite: False;\n",
       "  background-color: ;\n",
       "}\n",
       "#T_5cb8f_row5_col1 {\n",
       "  text-align: left;\n",
       "  border: 1px #231f20 solid !important;\n",
       "  overwrite: False;\n",
       "  background-color: #c3ffc4;\n",
       "}\n",
       "</style>\n",
       "<table id=\"T_5cb8f\">\n",
       "  <caption>Slice</caption>\n",
       "  <thead>\n",
       "  </thead>\n",
       "  <tbody>\n",
       "    <tr>\n",
       "      <td id=\"T_5cb8f_row0_col0\" class=\"data row0 col0\" >ID</td>\n",
       "      <td id=\"T_5cb8f_row0_col1\" class=\"data row0 col1\" >4f7ad990-bd85-4566-a706-1f378cc02994</td>\n",
       "    </tr>\n",
       "    <tr>\n",
       "      <td id=\"T_5cb8f_row1_col0\" class=\"data row1 col0\" >Name</td>\n",
       "      <td id=\"T_5cb8f_row1_col1\" class=\"data row1 col1\" >lab1</td>\n",
       "    </tr>\n",
       "    <tr>\n",
       "      <td id=\"T_5cb8f_row2_col0\" class=\"data row2 col0\" >Lease Expiration (UTC)</td>\n",
       "      <td id=\"T_5cb8f_row2_col1\" class=\"data row2 col1\" >2024-04-26 10:59:08 +0000</td>\n",
       "    </tr>\n",
       "    <tr>\n",
       "      <td id=\"T_5cb8f_row3_col0\" class=\"data row3 col0\" >Lease Start (UTC)</td>\n",
       "      <td id=\"T_5cb8f_row3_col1\" class=\"data row3 col1\" >2024-04-25 10:59:09 +0000</td>\n",
       "    </tr>\n",
       "    <tr>\n",
       "      <td id=\"T_5cb8f_row4_col0\" class=\"data row4 col0\" >Project ID</td>\n",
       "      <td id=\"T_5cb8f_row4_col1\" class=\"data row4 col1\" >6ce270de-788d-4e07-8bae-3206860a6387</td>\n",
       "    </tr>\n",
       "    <tr>\n",
       "      <td id=\"T_5cb8f_row5_col0\" class=\"data row5 col0\" >State</td>\n",
       "      <td id=\"T_5cb8f_row5_col1\" class=\"data row5 col1\" >StableOK</td>\n",
       "    </tr>\n",
       "  </tbody>\n",
       "</table>\n"
      ],
      "text/plain": [
       "<pandas.io.formats.style.Styler at 0x7f52a85ac550>"
      ]
     },
     "metadata": {},
     "output_type": "display_data"
    },
    {
     "data": {
      "text/html": [
       "<style type=\"text/css\">\n",
       "#T_403f7 caption {\n",
       "  text-align: center;\n",
       "  font-size: 150%;\n",
       "  caption-side: top;\n",
       "}\n",
       "#T_403f7 th {\n",
       "  text-align: left;\n",
       "}\n",
       "#T_403f7 tr:nth-child(even) {\n",
       "  background: #ffffff;\n",
       "  color: #231f20;\n",
       "}\n",
       "#T_403f7 tr:nth-child(odd) {\n",
       "  background: #dbf3ff;\n",
       "  color: #231f20;\n",
       "}\n",
       "#T_403f7 .level0 {\n",
       "  border: 1px black solid !important;\n",
       "  background: #ffffff;\n",
       "  color: #231f20;\n",
       "}\n",
       "#T_403f7_row0_col0, #T_403f7_row0_col1, #T_403f7_row0_col2, #T_403f7_row0_col3, #T_403f7_row0_col4, #T_403f7_row0_col5, #T_403f7_row0_col6, #T_403f7_row0_col7, #T_403f7_row0_col8, #T_403f7_row0_col9, #T_403f7_row0_col10, #T_403f7_row0_col13, #T_403f7_row0_col14, #T_403f7_row0_col15, #T_403f7_row1_col0, #T_403f7_row1_col1, #T_403f7_row1_col2, #T_403f7_row1_col3, #T_403f7_row1_col4, #T_403f7_row1_col5, #T_403f7_row1_col6, #T_403f7_row1_col7, #T_403f7_row1_col8, #T_403f7_row1_col9, #T_403f7_row1_col10, #T_403f7_row1_col13, #T_403f7_row1_col14, #T_403f7_row1_col15, #T_403f7_row2_col0, #T_403f7_row2_col1, #T_403f7_row2_col2, #T_403f7_row2_col3, #T_403f7_row2_col4, #T_403f7_row2_col5, #T_403f7_row2_col6, #T_403f7_row2_col7, #T_403f7_row2_col8, #T_403f7_row2_col9, #T_403f7_row2_col10, #T_403f7_row2_col13, #T_403f7_row2_col14, #T_403f7_row2_col15 {\n",
       "  text-align: left;\n",
       "  border: 1px #231f20 solid !important;\n",
       "  overwrite: False;\n",
       "}\n",
       "#T_403f7_row0_col11, #T_403f7_row1_col11, #T_403f7_row2_col11 {\n",
       "  text-align: left;\n",
       "  border: 1px #231f20 solid !important;\n",
       "  overwrite: False;\n",
       "  background-color: #c3ffc4;\n",
       "}\n",
       "#T_403f7_row0_col12, #T_403f7_row1_col12, #T_403f7_row2_col12 {\n",
       "  text-align: left;\n",
       "  border: 1px #231f20 solid !important;\n",
       "  overwrite: False;\n",
       "  background-color: ;\n",
       "}\n",
       "</style>\n",
       "<table id=\"T_403f7\">\n",
       "  <caption>Nodes</caption>\n",
       "  <thead>\n",
       "    <tr>\n",
       "      <th id=\"T_403f7_level0_col0\" class=\"col_heading level0 col0\" >ID</th>\n",
       "      <th id=\"T_403f7_level0_col1\" class=\"col_heading level0 col1\" >Name</th>\n",
       "      <th id=\"T_403f7_level0_col2\" class=\"col_heading level0 col2\" >Cores</th>\n",
       "      <th id=\"T_403f7_level0_col3\" class=\"col_heading level0 col3\" >RAM</th>\n",
       "      <th id=\"T_403f7_level0_col4\" class=\"col_heading level0 col4\" >Disk</th>\n",
       "      <th id=\"T_403f7_level0_col5\" class=\"col_heading level0 col5\" >Image</th>\n",
       "      <th id=\"T_403f7_level0_col6\" class=\"col_heading level0 col6\" >Image Type</th>\n",
       "      <th id=\"T_403f7_level0_col7\" class=\"col_heading level0 col7\" >Host</th>\n",
       "      <th id=\"T_403f7_level0_col8\" class=\"col_heading level0 col8\" >Site</th>\n",
       "      <th id=\"T_403f7_level0_col9\" class=\"col_heading level0 col9\" >Username</th>\n",
       "      <th id=\"T_403f7_level0_col10\" class=\"col_heading level0 col10\" >Management IP</th>\n",
       "      <th id=\"T_403f7_level0_col11\" class=\"col_heading level0 col11\" >State</th>\n",
       "      <th id=\"T_403f7_level0_col12\" class=\"col_heading level0 col12\" >Error</th>\n",
       "      <th id=\"T_403f7_level0_col13\" class=\"col_heading level0 col13\" >SSH Command</th>\n",
       "      <th id=\"T_403f7_level0_col14\" class=\"col_heading level0 col14\" >Public SSH Key File</th>\n",
       "      <th id=\"T_403f7_level0_col15\" class=\"col_heading level0 col15\" >Private SSH Key File</th>\n",
       "    </tr>\n",
       "  </thead>\n",
       "  <tbody>\n",
       "    <tr>\n",
       "      <td id=\"T_403f7_row0_col0\" class=\"data row0 col0\" >342a4aa0-cc1d-4335-874e-fe12a1c83bc3</td>\n",
       "      <td id=\"T_403f7_row0_col1\" class=\"data row0 col1\" >server1</td>\n",
       "      <td id=\"T_403f7_row0_col2\" class=\"data row0 col2\" >4</td>\n",
       "      <td id=\"T_403f7_row0_col3\" class=\"data row0 col3\" >8</td>\n",
       "      <td id=\"T_403f7_row0_col4\" class=\"data row0 col4\" >100</td>\n",
       "      <td id=\"T_403f7_row0_col5\" class=\"data row0 col5\" >default_ubuntu_20</td>\n",
       "      <td id=\"T_403f7_row0_col6\" class=\"data row0 col6\" >qcow2</td>\n",
       "      <td id=\"T_403f7_row0_col7\" class=\"data row0 col7\" >mich-w1.fabric-testbed.net</td>\n",
       "      <td id=\"T_403f7_row0_col8\" class=\"data row0 col8\" >MICH</td>\n",
       "      <td id=\"T_403f7_row0_col9\" class=\"data row0 col9\" >ubuntu</td>\n",
       "      <td id=\"T_403f7_row0_col10\" class=\"data row0 col10\" >2607:f018:110:11:f816:3eff:fe1e:6e2f</td>\n",
       "      <td id=\"T_403f7_row0_col11\" class=\"data row0 col11\" >Active</td>\n",
       "      <td id=\"T_403f7_row0_col12\" class=\"data row0 col12\" ></td>\n",
       "      <td id=\"T_403f7_row0_col13\" class=\"data row0 col13\" >ssh -i /home/fabric/work/fabric_config/slice_key -F /home/fabric/work/fabric_config/ssh_config ubuntu@2607:f018:110:11:f816:3eff:fe1e:6e2f</td>\n",
       "      <td id=\"T_403f7_row0_col14\" class=\"data row0 col14\" >/home/fabric/work/fabric_config/slice_key.pub</td>\n",
       "      <td id=\"T_403f7_row0_col15\" class=\"data row0 col15\" >/home/fabric/work/fabric_config/slice_key</td>\n",
       "    </tr>\n",
       "    <tr>\n",
       "      <td id=\"T_403f7_row1_col0\" class=\"data row1 col0\" >70e16e9d-c744-48d9-9a40-4b398ebf0985</td>\n",
       "      <td id=\"T_403f7_row1_col1\" class=\"data row1 col1\" >server2</td>\n",
       "      <td id=\"T_403f7_row1_col2\" class=\"data row1 col2\" >4</td>\n",
       "      <td id=\"T_403f7_row1_col3\" class=\"data row1 col3\" >8</td>\n",
       "      <td id=\"T_403f7_row1_col4\" class=\"data row1 col4\" >100</td>\n",
       "      <td id=\"T_403f7_row1_col5\" class=\"data row1 col5\" >default_ubuntu_20</td>\n",
       "      <td id=\"T_403f7_row1_col6\" class=\"data row1 col6\" >qcow2</td>\n",
       "      <td id=\"T_403f7_row1_col7\" class=\"data row1 col7\" >ncsa-w2.fabric-testbed.net</td>\n",
       "      <td id=\"T_403f7_row1_col8\" class=\"data row1 col8\" >NCSA</td>\n",
       "      <td id=\"T_403f7_row1_col9\" class=\"data row1 col9\" >ubuntu</td>\n",
       "      <td id=\"T_403f7_row1_col10\" class=\"data row1 col10\" >2620:0:c80:1001:f816:3eff:fe50:e3c1</td>\n",
       "      <td id=\"T_403f7_row1_col11\" class=\"data row1 col11\" >Active</td>\n",
       "      <td id=\"T_403f7_row1_col12\" class=\"data row1 col12\" ></td>\n",
       "      <td id=\"T_403f7_row1_col13\" class=\"data row1 col13\" >ssh -i /home/fabric/work/fabric_config/slice_key -F /home/fabric/work/fabric_config/ssh_config ubuntu@2620:0:c80:1001:f816:3eff:fe50:e3c1</td>\n",
       "      <td id=\"T_403f7_row1_col14\" class=\"data row1 col14\" >/home/fabric/work/fabric_config/slice_key.pub</td>\n",
       "      <td id=\"T_403f7_row1_col15\" class=\"data row1 col15\" >/home/fabric/work/fabric_config/slice_key</td>\n",
       "    </tr>\n",
       "    <tr>\n",
       "      <td id=\"T_403f7_row2_col0\" class=\"data row2 col0\" >e5c5c9f7-8898-4542-8d11-f4bc180e5d4f</td>\n",
       "      <td id=\"T_403f7_row2_col1\" class=\"data row2 col1\" >switch</td>\n",
       "      <td id=\"T_403f7_row2_col2\" class=\"data row2 col2\" >32</td>\n",
       "      <td id=\"T_403f7_row2_col3\" class=\"data row2 col3\" >16</td>\n",
       "      <td id=\"T_403f7_row2_col4\" class=\"data row2 col4\" >100</td>\n",
       "      <td id=\"T_403f7_row2_col5\" class=\"data row2 col5\" >default_ubuntu_20</td>\n",
       "      <td id=\"T_403f7_row2_col6\" class=\"data row2 col6\" >qcow2</td>\n",
       "      <td id=\"T_403f7_row2_col7\" class=\"data row2 col7\" >star-w2.fabric-testbed.net</td>\n",
       "      <td id=\"T_403f7_row2_col8\" class=\"data row2 col8\" >STAR</td>\n",
       "      <td id=\"T_403f7_row2_col9\" class=\"data row2 col9\" >ubuntu</td>\n",
       "      <td id=\"T_403f7_row2_col10\" class=\"data row2 col10\" >2001:400:a100:3030:f816:3eff:fe50:bdc6</td>\n",
       "      <td id=\"T_403f7_row2_col11\" class=\"data row2 col11\" >Active</td>\n",
       "      <td id=\"T_403f7_row2_col12\" class=\"data row2 col12\" ></td>\n",
       "      <td id=\"T_403f7_row2_col13\" class=\"data row2 col13\" >ssh -i /home/fabric/work/fabric_config/slice_key -F /home/fabric/work/fabric_config/ssh_config ubuntu@2001:400:a100:3030:f816:3eff:fe50:bdc6</td>\n",
       "      <td id=\"T_403f7_row2_col14\" class=\"data row2 col14\" >/home/fabric/work/fabric_config/slice_key.pub</td>\n",
       "      <td id=\"T_403f7_row2_col15\" class=\"data row2 col15\" >/home/fabric/work/fabric_config/slice_key</td>\n",
       "    </tr>\n",
       "  </tbody>\n",
       "</table>\n"
      ],
      "text/plain": [
       "<pandas.io.formats.style.Styler at 0x7f52a834e260>"
      ]
     },
     "metadata": {},
     "output_type": "display_data"
    },
    {
     "data": {
      "text/html": [
       "<style type=\"text/css\">\n",
       "#T_9b22e caption {\n",
       "  text-align: center;\n",
       "  font-size: 150%;\n",
       "  caption-side: top;\n",
       "}\n",
       "#T_9b22e th {\n",
       "  text-align: left;\n",
       "}\n",
       "#T_9b22e tr:nth-child(even) {\n",
       "  background: #ffffff;\n",
       "  color: #231f20;\n",
       "}\n",
       "#T_9b22e tr:nth-child(odd) {\n",
       "  background: #dbf3ff;\n",
       "  color: #231f20;\n",
       "}\n",
       "#T_9b22e .level0 {\n",
       "  border: 1px black solid !important;\n",
       "  background: #ffffff;\n",
       "  color: #231f20;\n",
       "}\n",
       "#T_9b22e_row0_col0, #T_9b22e_row0_col1, #T_9b22e_row0_col2, #T_9b22e_row0_col3, #T_9b22e_row0_col4, #T_9b22e_row0_col5, #T_9b22e_row0_col6, #T_9b22e_row1_col0, #T_9b22e_row1_col1, #T_9b22e_row1_col2, #T_9b22e_row1_col3, #T_9b22e_row1_col4, #T_9b22e_row1_col5, #T_9b22e_row1_col6 {\n",
       "  text-align: left;\n",
       "  border: 1px #231f20 solid !important;\n",
       "  overwrite: False;\n",
       "}\n",
       "#T_9b22e_row0_col7, #T_9b22e_row1_col7 {\n",
       "  text-align: left;\n",
       "  border: 1px #231f20 solid !important;\n",
       "  overwrite: False;\n",
       "  background-color: #c3ffc4;\n",
       "}\n",
       "#T_9b22e_row0_col8, #T_9b22e_row1_col8 {\n",
       "  text-align: left;\n",
       "  border: 1px #231f20 solid !important;\n",
       "  overwrite: False;\n",
       "  background-color: ;\n",
       "}\n",
       "</style>\n",
       "<table id=\"T_9b22e\">\n",
       "  <caption>Networks</caption>\n",
       "  <thead>\n",
       "    <tr>\n",
       "      <th id=\"T_9b22e_level0_col0\" class=\"col_heading level0 col0\" >ID</th>\n",
       "      <th id=\"T_9b22e_level0_col1\" class=\"col_heading level0 col1\" >Name</th>\n",
       "      <th id=\"T_9b22e_level0_col2\" class=\"col_heading level0 col2\" >Layer</th>\n",
       "      <th id=\"T_9b22e_level0_col3\" class=\"col_heading level0 col3\" >Type</th>\n",
       "      <th id=\"T_9b22e_level0_col4\" class=\"col_heading level0 col4\" >Site</th>\n",
       "      <th id=\"T_9b22e_level0_col5\" class=\"col_heading level0 col5\" >Subnet</th>\n",
       "      <th id=\"T_9b22e_level0_col6\" class=\"col_heading level0 col6\" >Gateway</th>\n",
       "      <th id=\"T_9b22e_level0_col7\" class=\"col_heading level0 col7\" >State</th>\n",
       "      <th id=\"T_9b22e_level0_col8\" class=\"col_heading level0 col8\" >Error</th>\n",
       "    </tr>\n",
       "  </thead>\n",
       "  <tbody>\n",
       "    <tr>\n",
       "      <td id=\"T_9b22e_row0_col0\" class=\"data row0 col0\" >816ee416-515f-4c26-b7fb-0f15bdf4f0d7</td>\n",
       "      <td id=\"T_9b22e_row0_col1\" class=\"data row0 col1\" >net1</td>\n",
       "      <td id=\"T_9b22e_row0_col2\" class=\"data row0 col2\" >L2</td>\n",
       "      <td id=\"T_9b22e_row0_col3\" class=\"data row0 col3\" >L2STS</td>\n",
       "      <td id=\"T_9b22e_row0_col4\" class=\"data row0 col4\" >None</td>\n",
       "      <td id=\"T_9b22e_row0_col5\" class=\"data row0 col5\" >None</td>\n",
       "      <td id=\"T_9b22e_row0_col6\" class=\"data row0 col6\" >None</td>\n",
       "      <td id=\"T_9b22e_row0_col7\" class=\"data row0 col7\" >Active</td>\n",
       "      <td id=\"T_9b22e_row0_col8\" class=\"data row0 col8\" ></td>\n",
       "    </tr>\n",
       "    <tr>\n",
       "      <td id=\"T_9b22e_row1_col0\" class=\"data row1 col0\" >2d5e1146-149e-434b-b8b1-4ae682ee66e9</td>\n",
       "      <td id=\"T_9b22e_row1_col1\" class=\"data row1 col1\" >net2</td>\n",
       "      <td id=\"T_9b22e_row1_col2\" class=\"data row1 col2\" >L2</td>\n",
       "      <td id=\"T_9b22e_row1_col3\" class=\"data row1 col3\" >L2STS</td>\n",
       "      <td id=\"T_9b22e_row1_col4\" class=\"data row1 col4\" >None</td>\n",
       "      <td id=\"T_9b22e_row1_col5\" class=\"data row1 col5\" >None</td>\n",
       "      <td id=\"T_9b22e_row1_col6\" class=\"data row1 col6\" >None</td>\n",
       "      <td id=\"T_9b22e_row1_col7\" class=\"data row1 col7\" >Active</td>\n",
       "      <td id=\"T_9b22e_row1_col8\" class=\"data row1 col8\" ></td>\n",
       "    </tr>\n",
       "  </tbody>\n",
       "</table>\n"
      ],
      "text/plain": [
       "<pandas.io.formats.style.Styler at 0x7f52a834d6f0>"
      ]
     },
     "metadata": {},
     "output_type": "display_data"
    },
    {
     "data": {
      "text/html": [
       "<style type=\"text/css\">\n",
       "#T_f544d caption {\n",
       "  text-align: center;\n",
       "  font-size: 150%;\n",
       "  caption-side: top;\n",
       "}\n",
       "#T_f544d th {\n",
       "  text-align: left;\n",
       "}\n",
       "#T_f544d tr:nth-child(even) {\n",
       "  background: #ffffff;\n",
       "  color: #231f20;\n",
       "}\n",
       "#T_f544d tr:nth-child(odd) {\n",
       "  background: #dbf3ff;\n",
       "  color: #231f20;\n",
       "}\n",
       "#T_f544d .level0 {\n",
       "  border: 1px black solid !important;\n",
       "  background: #ffffff;\n",
       "  color: #231f20;\n",
       "}\n",
       "#T_f544d_row0_col0, #T_f544d_row0_col1, #T_f544d_row0_col2, #T_f544d_row0_col3, #T_f544d_row0_col4, #T_f544d_row0_col5, #T_f544d_row0_col6, #T_f544d_row0_col7, #T_f544d_row0_col8, #T_f544d_row0_col9, #T_f544d_row0_col10, #T_f544d_row0_col11, #T_f544d_row1_col0, #T_f544d_row1_col1, #T_f544d_row1_col2, #T_f544d_row1_col3, #T_f544d_row1_col4, #T_f544d_row1_col5, #T_f544d_row1_col6, #T_f544d_row1_col7, #T_f544d_row1_col8, #T_f544d_row1_col9, #T_f544d_row1_col10, #T_f544d_row1_col11, #T_f544d_row2_col0, #T_f544d_row2_col1, #T_f544d_row2_col2, #T_f544d_row2_col3, #T_f544d_row2_col4, #T_f544d_row2_col5, #T_f544d_row2_col6, #T_f544d_row2_col7, #T_f544d_row2_col8, #T_f544d_row2_col9, #T_f544d_row2_col10, #T_f544d_row2_col11, #T_f544d_row3_col0, #T_f544d_row3_col1, #T_f544d_row3_col2, #T_f544d_row3_col3, #T_f544d_row3_col4, #T_f544d_row3_col5, #T_f544d_row3_col6, #T_f544d_row3_col7, #T_f544d_row3_col8, #T_f544d_row3_col9, #T_f544d_row3_col10, #T_f544d_row3_col11 {\n",
       "  text-align: left;\n",
       "  border: 1px #231f20 solid !important;\n",
       "  overwrite: False;\n",
       "}\n",
       "</style>\n",
       "<table id=\"T_f544d\">\n",
       "  <caption>Interfaces</caption>\n",
       "  <thead>\n",
       "    <tr>\n",
       "      <th id=\"T_f544d_level0_col0\" class=\"col_heading level0 col0\" >Name</th>\n",
       "      <th id=\"T_f544d_level0_col1\" class=\"col_heading level0 col1\" >Short Name</th>\n",
       "      <th id=\"T_f544d_level0_col2\" class=\"col_heading level0 col2\" >Node</th>\n",
       "      <th id=\"T_f544d_level0_col3\" class=\"col_heading level0 col3\" >Network</th>\n",
       "      <th id=\"T_f544d_level0_col4\" class=\"col_heading level0 col4\" >Bandwidth</th>\n",
       "      <th id=\"T_f544d_level0_col5\" class=\"col_heading level0 col5\" >Mode</th>\n",
       "      <th id=\"T_f544d_level0_col6\" class=\"col_heading level0 col6\" >VLAN</th>\n",
       "      <th id=\"T_f544d_level0_col7\" class=\"col_heading level0 col7\" >MAC</th>\n",
       "      <th id=\"T_f544d_level0_col8\" class=\"col_heading level0 col8\" >Physical Device</th>\n",
       "      <th id=\"T_f544d_level0_col9\" class=\"col_heading level0 col9\" >Device</th>\n",
       "      <th id=\"T_f544d_level0_col10\" class=\"col_heading level0 col10\" >IP Address</th>\n",
       "      <th id=\"T_f544d_level0_col11\" class=\"col_heading level0 col11\" >Numa Node</th>\n",
       "    </tr>\n",
       "  </thead>\n",
       "  <tbody>\n",
       "    <tr>\n",
       "      <td id=\"T_f544d_row0_col0\" class=\"data row0 col0\" >server1-None-p1</td>\n",
       "      <td id=\"T_f544d_row0_col1\" class=\"data row0 col1\" >p1</td>\n",
       "      <td id=\"T_f544d_row0_col2\" class=\"data row0 col2\" >server1</td>\n",
       "      <td id=\"T_f544d_row0_col3\" class=\"data row0 col3\" >net1</td>\n",
       "      <td id=\"T_f544d_row0_col4\" class=\"data row0 col4\" >100</td>\n",
       "      <td id=\"T_f544d_row0_col5\" class=\"data row0 col5\" >config</td>\n",
       "      <td id=\"T_f544d_row0_col6\" class=\"data row0 col6\" ></td>\n",
       "      <td id=\"T_f544d_row0_col7\" class=\"data row0 col7\" >02:D5:4F:CB:3B:68</td>\n",
       "      <td id=\"T_f544d_row0_col8\" class=\"data row0 col8\" >enp7s0</td>\n",
       "      <td id=\"T_f544d_row0_col9\" class=\"data row0 col9\" >enp7s0</td>\n",
       "      <td id=\"T_f544d_row0_col10\" class=\"data row0 col10\" >None</td>\n",
       "      <td id=\"T_f544d_row0_col11\" class=\"data row0 col11\" >6</td>\n",
       "    </tr>\n",
       "    <tr>\n",
       "      <td id=\"T_f544d_row1_col0\" class=\"data row1 col0\" >server2-None-p1</td>\n",
       "      <td id=\"T_f544d_row1_col1\" class=\"data row1 col1\" >p1</td>\n",
       "      <td id=\"T_f544d_row1_col2\" class=\"data row1 col2\" >server2</td>\n",
       "      <td id=\"T_f544d_row1_col3\" class=\"data row1 col3\" >net2</td>\n",
       "      <td id=\"T_f544d_row1_col4\" class=\"data row1 col4\" >100</td>\n",
       "      <td id=\"T_f544d_row1_col5\" class=\"data row1 col5\" >config</td>\n",
       "      <td id=\"T_f544d_row1_col6\" class=\"data row1 col6\" ></td>\n",
       "      <td id=\"T_f544d_row1_col7\" class=\"data row1 col7\" >02:C6:60:49:95:60</td>\n",
       "      <td id=\"T_f544d_row1_col8\" class=\"data row1 col8\" >enp7s0</td>\n",
       "      <td id=\"T_f544d_row1_col9\" class=\"data row1 col9\" >enp7s0</td>\n",
       "      <td id=\"T_f544d_row1_col10\" class=\"data row1 col10\" >None</td>\n",
       "      <td id=\"T_f544d_row1_col11\" class=\"data row1 col11\" >4</td>\n",
       "    </tr>\n",
       "    <tr>\n",
       "      <td id=\"T_f544d_row2_col0\" class=\"data row2 col0\" >switch-net2_nic-p1</td>\n",
       "      <td id=\"T_f544d_row2_col1\" class=\"data row2 col1\" >p1</td>\n",
       "      <td id=\"T_f544d_row2_col2\" class=\"data row2 col2\" >switch</td>\n",
       "      <td id=\"T_f544d_row2_col3\" class=\"data row2 col3\" >net2</td>\n",
       "      <td id=\"T_f544d_row2_col4\" class=\"data row2 col4\" >100</td>\n",
       "      <td id=\"T_f544d_row2_col5\" class=\"data row2 col5\" >config</td>\n",
       "      <td id=\"T_f544d_row2_col6\" class=\"data row2 col6\" ></td>\n",
       "      <td id=\"T_f544d_row2_col7\" class=\"data row2 col7\" >1E:26:5D:A3:7F:95</td>\n",
       "      <td id=\"T_f544d_row2_col8\" class=\"data row2 col8\" >enp8s0</td>\n",
       "      <td id=\"T_f544d_row2_col9\" class=\"data row2 col9\" >enp8s0</td>\n",
       "      <td id=\"T_f544d_row2_col10\" class=\"data row2 col10\" >None</td>\n",
       "      <td id=\"T_f544d_row2_col11\" class=\"data row2 col11\" >6</td>\n",
       "    </tr>\n",
       "    <tr>\n",
       "      <td id=\"T_f544d_row3_col0\" class=\"data row3 col0\" >switch-net1_nic-p1</td>\n",
       "      <td id=\"T_f544d_row3_col1\" class=\"data row3 col1\" >p1</td>\n",
       "      <td id=\"T_f544d_row3_col2\" class=\"data row3 col2\" >switch</td>\n",
       "      <td id=\"T_f544d_row3_col3\" class=\"data row3 col3\" >net1</td>\n",
       "      <td id=\"T_f544d_row3_col4\" class=\"data row3 col4\" >100</td>\n",
       "      <td id=\"T_f544d_row3_col5\" class=\"data row3 col5\" >config</td>\n",
       "      <td id=\"T_f544d_row3_col6\" class=\"data row3 col6\" ></td>\n",
       "      <td id=\"T_f544d_row3_col7\" class=\"data row3 col7\" >06:85:00:82:56:5E</td>\n",
       "      <td id=\"T_f544d_row3_col8\" class=\"data row3 col8\" >enp7s0</td>\n",
       "      <td id=\"T_f544d_row3_col9\" class=\"data row3 col9\" >enp7s0</td>\n",
       "      <td id=\"T_f544d_row3_col10\" class=\"data row3 col10\" >None</td>\n",
       "      <td id=\"T_f544d_row3_col11\" class=\"data row3 col11\" >6</td>\n",
       "    </tr>\n",
       "  </tbody>\n",
       "</table>\n"
      ],
      "text/plain": [
       "<pandas.io.formats.style.Styler at 0x7f52a84d5840>"
      ]
     },
     "metadata": {},
     "output_type": "display_data"
    },
    {
     "name": "stdout",
     "output_type": "stream",
     "text": [
      "\n",
      "Time to print interfaces 318 seconds\n"
     ]
    }
   ],
   "source": [
    "#Submit Slice Request\n",
    "slice.submit();"
   ]
  },
  {
   "cell_type": "markdown",
   "id": "05bfa5ff-9374-4823-9ea0-09f045a91684",
   "metadata": {},
   "source": [
    "# Step 4: Installing the required packages\n",
    "In this step, we will install the required packages to run the lab. Specifically, we will install the BMv2 software switch and its control plane, the P4 compiler (p4c), and net-tools."
   ]
  },
  {
   "cell_type": "markdown",
   "id": "e158f852-d764-4728-af01-7de9f669dd78",
   "metadata": {},
   "source": [
    "## Step 4.1 Installing BMv2\n",
    "The BMv2 software switch will be installed on the switch node. We will upload the script [scripts/install_bmv2.sh](./scripts/install_bmv2.sh) to the switch and execute it"
   ]
  },
  {
   "cell_type": "code",
   "execution_count": 11,
   "id": "00430e7b-472e-4d5b-a81d-03dfaaec14ae",
   "metadata": {},
   "outputs": [],
   "source": [
    "switch = slice.get_node(name=\"switch\")     \n",
    "switch.upload_file('scripts/install_bmv2.sh', 'install_bmv2.sh')\n",
    "stdout, stderr = switch.execute(f'chmod +x install_bmv2.sh &&  ./install_bmv2.sh',quiet=True)"
   ]
  },
  {
   "cell_type": "markdown",
   "id": "13cf4d2f-0ba4-4629-b221-87b19d4c0324",
   "metadata": {
    "tags": []
   },
   "source": [
    "## Step 4.2 Installing net-tools\n",
    "The net-tools package will be installed on the switch, server1 and server2 nodes. This package will allow us to use the *ifconfig* and the *arp* commands "
   ]
  },
  {
   "cell_type": "code",
   "execution_count": 12,
   "id": "caa0c8d8-5d49-44cb-8d0a-1feb391fa322",
   "metadata": {},
   "outputs": [],
   "source": [
    "server1 = slice.get_node(name=\"server1\")\n",
    "server2 = slice.get_node(name=\"server2\")\n",
    "stdout, stderr = server1.execute(f'sudo apt-get install -y net-tools', quiet=True)\n",
    "stdout, stderr = server2.execute(f'sudo apt-get install -y net-tools', quiet=True)\n",
    "stdout, stderr = switch.execute(f'sudo apt-get install -y net-tools', quiet=True)"
   ]
  },
  {
   "cell_type": "markdown",
   "id": "dac55d61-249f-45d2-ada4-99247b2697e9",
   "metadata": {},
   "source": [
    "# Step 5: Assigning IP and MAC addresses\n",
    "In this step, we will assign IPv4 addresses to the interfaces of the servers and the switch. We will also hardcode the MAC addresses. "
   ]
  },
  {
   "cell_type": "markdown",
   "id": "4d0eb819-68ad-4dbb-a279-40c997c3537b",
   "metadata": {},
   "source": [
    "## Step 5.1: Get interfaces names\n",
    "In this step we will get the interface names so that we can assign IP addresses to them. Map the printed interface names to those seen in this figure:\n",
    "\n",
    "<img src=\"./labs_files/lab1/figs/interfaces.PNG\" width=\"550px\"><br>"
   ]
  },
  {
   "cell_type": "code",
   "execution_count": 13,
   "id": "1999024a-39f5-402c-8017-86463aeafbd4",
   "metadata": {},
   "outputs": [
    {
     "name": "stdout",
     "output_type": "stream",
     "text": [
      "server1_iface: enp7s0\n",
      "server2_iface: enp7s0\n",
      "switch_iface1: enp7s0\n",
      "switch_iface2: enp8s0\n"
     ]
    }
   ],
   "source": [
    "node1_iface = server1.get_interface(network_name='net1') \n",
    "server1_iface_name = node1_iface.get_device_name()\n",
    "print(f'server1_iface: {server1_iface_name}')\n",
    "\n",
    "node2_iface = server2.get_interface(network_name='net2') \n",
    "server2_iface_name = node2_iface.get_device_name()\n",
    "print(f'server2_iface: {server2_iface_name}')\n",
    "\n",
    "switch_iface1 = switch.get_interface(network_name='net1') \n",
    "switch_iface1_name = switch_iface1.get_device_name()\n",
    "print(f'switch_iface1: {switch_iface1_name}')\n",
    "\n",
    "switch_iface2 = switch.get_interface(network_name='net2') \n",
    "switch_iface2_name = switch_iface2.get_device_name()\n",
    "print(f'switch_iface2: {switch_iface2_name}')"
   ]
  },
  {
   "cell_type": "markdown",
   "id": "468540b5-8192-4af3-a992-18ae011bb5d3",
   "metadata": {
    "tags": []
   },
   "source": [
    "## Step 5.2: Turning all interfaces up\n",
    "In this step, we will use the ip link command to turn the interfaces up\n",
    "\n",
    "<img src=\"./labs_files/lab1/figs/interfaces_up.PNG\" width=\"550px\"><br>"
   ]
  },
  {
   "cell_type": "code",
   "execution_count": 14,
   "id": "f48d34c4-a812-40b5-abaf-29b6cbe69755",
   "metadata": {
    "tags": []
   },
   "outputs": [],
   "source": [
    "stdout, stderr = server1.execute(f'sudo ip link set dev {server1_iface_name} up', quiet=True)\n",
    "stdout, stderr = server2.execute(f'sudo ip link set dev {server2_iface_name} up', quiet=True)\n",
    "stdout, stderr = switch.execute(f'sudo ip link set dev {switch_iface1_name} up', quiet=True)\n",
    "stdout, stderr = switch.execute(f'sudo ip link set dev {switch_iface2_name} up', quiet=True)"
   ]
  },
  {
   "cell_type": "markdown",
   "id": "136da10f-bb1e-4666-9084-020354db0a2c",
   "metadata": {
    "tags": []
   },
   "source": [
    "## Step 5.3: Hardcode MAC addresses\n",
    "For simplicity, we will use the following MAC addresses for the interfaces:\n",
    "<ul>\n",
    "    <li> server1_iface_MAC = '00:00:00:00:00:01' (shown as 00:01 in the figure below) </li>\n",
    "    <li>switch_iface1_MAC = '00:00:00:00:00:02' (shown as 00:02 in the figure below)</li>\n",
    "    <li>switch_iface2_MAC = '00:00:00:00:00:03' (shown as 00:03 in the figure below)</li>\n",
    "    <li>server2_iface_MAC = '00:00:00:00:00:04' (shown as 00:04 in the figure below)</li>\n",
    "</ul>\n",
    "\n",
    "<img src=\"./labs_files/lab1/figs/mac_addresses.PNG\" width=\"550px\"><br>"
   ]
  },
  {
   "cell_type": "code",
   "execution_count": 15,
   "id": "a410cde7-465b-4df3-80fa-819e1c16c439",
   "metadata": {
    "tags": []
   },
   "outputs": [],
   "source": [
    "server1_iface_MAC = '00:00:00:00:00:01'\n",
    "switch_iface1_MAC = '00:00:00:00:00:02'\n",
    "switch_iface2_MAC = '00:00:00:00:00:03'\n",
    "server2_iface_MAC = '00:00:00:00:00:04'"
   ]
  },
  {
   "cell_type": "markdown",
   "id": "1099ce50-10ba-4879-8fc8-79e7e3218fa6",
   "metadata": {},
   "source": [
    "## Step 5.4 Configuring the IP and MAC addresses on server1_iface and switch_iface1\n",
    "\n",
    "We will use the network 192.168.1.0/24 between Site1 and Site2. We will assign the IP address 192.168.1.10 to server1's interface and 192.168.1.1 to its neighboring interface on the switch.\n",
    "\n",
    "<img src=\"./labs_files/lab1/figs/IPs_1.PNG\" width=\"550px\"><br>"
   ]
  },
  {
   "cell_type": "code",
   "execution_count": 16,
   "id": "6e04681f-865b-440c-9f62-5fc987b3f0e9",
   "metadata": {
    "tags": []
   },
   "outputs": [],
   "source": [
    "server1_switch_subnet = \"192.168.1.0/24\"\n",
    "server1_ip = '192.168.1.10/24'\n",
    "switch_ip1 = '192.168.1.1/24'\n",
    "\n",
    "stdout, stderr = server1.execute(f'sudo ifconfig {server1_iface_name} {server1_ip}')\n",
    "stdout, stderr = switch.execute(f'sudo ifconfig {switch_iface1_name} {switch_ip1}')\n",
    "\n",
    "stdout, stderr = server1.execute(f'sudo ifconfig {server1_iface_name} hw ether {server1_iface_MAC}')\n",
    "stdout, stderr = switch.execute(f'sudo ifconfig {switch_iface1_name} hw ether {switch_iface1_MAC}')"
   ]
  },
  {
   "cell_type": "markdown",
   "id": "af6c5659-adab-4b3d-a59a-ca06381326d7",
   "metadata": {},
   "source": [
    "## Step 5.5: Configuring the IP and MAC addresses on switch_iface2 and server2_iface\n",
    "\n",
    "We will use the network 192.168.2.0/24 between Site2 and Site3. We will assign the IP address 192.168.2.10 to server2's interface and 192.168.2.1 to its neighboring interface on the switch.\n",
    "\n",
    "<img src=\"./labs_files/lab1/figs/IPs_2.PNG\" width=\"550px\"><br>"
   ]
  },
  {
   "cell_type": "code",
   "execution_count": 17,
   "id": "e41e611d-7b92-4ef5-8525-a9ceaf1b0eb0",
   "metadata": {
    "tags": []
   },
   "outputs": [],
   "source": [
    "server2_switch_subnet = \"192.168.2.0/24\"\n",
    "server2_ip = '192.168.2.10/24'\n",
    "switch_ip2 = '192.168.2.1/24'\n",
    "\n",
    "stdout, stderr = server2.execute(f'sudo ifconfig {server2_iface_name} {server2_ip}')\n",
    "stdout, stderr = switch.execute(f'sudo ifconfig {switch_iface2_name} {switch_ip2}')\n",
    "\n",
    "stdout, stderr = server2.execute(f'sudo ifconfig {server2_iface_name} hw ether {server2_iface_MAC}')\n",
    "stdout, stderr = switch.execute(f'sudo ifconfig {switch_iface2_name} hw ether {switch_iface2_MAC}')"
   ]
  },
  {
   "cell_type": "markdown",
   "id": "df3c54cf-457e-4f7c-9e9d-438808c68fe8",
   "metadata": {},
   "source": [
    "# Step 6: Configure forwarding and routing"
   ]
  },
  {
   "cell_type": "markdown",
   "id": "f8ecee56-5751-41e7-aa1b-f7641fa5ae11",
   "metadata": {},
   "source": [
    "## Step 6.1: Enable forwarding on the switch\n",
    "\n",
    "The command \"sudo sysctl -w net.ipv4.ip_forward=1\" is used to enable IP forwarding on a Linux system.\n",
    "\n",
    "IP forwarding is a feature that allows a system to act as a router by forwarding network packets from one network interface to another. By default, IP forwarding is usually disabled on Linux systems for security reasons. \n",
    "\n",
    "The command will be executed on the switch device."
   ]
  },
  {
   "cell_type": "code",
   "execution_count": 18,
   "id": "d0a57f78-6e78-4487-81f6-dad296353407",
   "metadata": {},
   "outputs": [],
   "source": [
    "stdout, stderr = switch.execute('sudo sysctl -w net.ipv4.ip_forward=1' , quiet=True)"
   ]
  },
  {
   "cell_type": "markdown",
   "id": "6c423ec8-d859-4716-b79a-d56671173413",
   "metadata": {},
   "source": [
    "## Step 6.2: Delete routing entries for the routes to force traffic to go through the BMv2 switch\n",
    "\n",
    "In this step, we are deleting the routes on the switch's routing table in Linux. By deleting the routes, the packets will go through the BMv2 switch instead of being forwarded by the kernel."
   ]
  },
  {
   "cell_type": "code",
   "execution_count": 19,
   "id": "72de7117-060d-4490-940e-13561fa2e852",
   "metadata": {},
   "outputs": [],
   "source": [
    "stdout, stderr = switch.execute(f'sudo ip route del {server1_switch_subnet}', quiet=True)\n",
    "stdout, stderr = switch.execute(f'sudo ip route del {server2_switch_subnet}', quiet=True)"
   ]
  },
  {
   "cell_type": "markdown",
   "id": "b5628c85-1f68-4a4b-916f-b68c46a51967",
   "metadata": {},
   "source": [
    "## Step 6.3: Configure routing\n",
    "\n",
    "In this step, we will configure static routes on server1 and server2. \n",
    "<ul>\n",
    "    <li> For server1, we will add a route to reach the network 192.168.2.0/24 via 192.168.1.1 </li>\n",
    "    <li> For server2, we will add a route to reach the network 192.168.1.0/24 via 192.168.2.1 </li>\n",
    "</ul>\n",
    "\n",
    "<img src=\"./labs_files/lab1/figs/routing.PNG\" width=\"550px\"><br>"
   ]
  },
  {
   "cell_type": "code",
   "execution_count": 20,
   "id": "e3459ed6-eb9c-4246-9981-12203b2929fd",
   "metadata": {},
   "outputs": [],
   "source": [
    "gw1 = switch_ip1.split('/')[0] # gw1 -> 192.168.1.1 \n",
    "gw2 = switch_ip2.split('/')[0] # gw2 -> 192.168.2.1\n",
    "stdout, stderr = server1.execute(f'sudo ip route add {server2_switch_subnet} via {gw1}')\n",
    "stdout, stderr = server2.execute(f'sudo ip route add {server1_switch_subnet} via {gw2}')"
   ]
  },
  {
   "cell_type": "markdown",
   "id": "d31983ac-4fd0-4f17-986b-cc347e772d18",
   "metadata": {
    "tags": []
   },
   "source": [
    "## Step 6.4: Configure ARP\n",
    "\n",
    "In this step, we will configure static ARP entries on server1 and server2. The reason we are doing this is because the switch does not process ARP packets unless programmed to. To make sure that ARP packets are not sent towards the switch, we will hardcode the MACs on the servers.\n",
    "\n",
    "For each server, we will add an ARP entry to its switch's neighboring interface."
   ]
  },
  {
   "cell_type": "code",
   "execution_count": 21,
   "id": "0cdb7aae-ee53-4e5a-9bbc-4a76f3fde954",
   "metadata": {},
   "outputs": [],
   "source": [
    "stdout, stderr = server1.execute(f'sudo arp -s {gw1} {switch_iface1_MAC}')\n",
    "stdout, stderr = server2.execute(f'sudo arp -s {gw2} {switch_iface2_MAC}')"
   ]
  },
  {
   "cell_type": "markdown",
   "id": "b6a7aa6a-a33e-46e1-af89-34960ed73ad4",
   "metadata": {},
   "source": [
    "# Step 7: Compiling and starting a simple P4 routing program\n",
    "\n",
    "In this step, we will compile the P4 program and start the switch using the *p4c* compiler. To view and edit the P4 program, [Click Here](labs_files/lab1/mri.p4)\n",
    "\n",
    "The P4 program [mri.p4](labs_files/lab1/mri.p4) is located under lab_files/lab1/.\n",
    "\n",
    "We will stop any previous instance of the switch (if any is existing) by killing its process.\n",
    "\n",
    "Then, we will start the switch and allocate the interfaces to logical ports. \n",
    "\n",
    "<img src=\"./labs_files/lab1/figs/starting_switch.PNG\" width=\"550px\"><br>"
   ]
  },
  {
   "cell_type": "code",
   "execution_count": 22,
   "id": "1d3d3199-d204-419d-9c0c-22fe7f9ef87a",
   "metadata": {
    "tags": []
   },
   "outputs": [
    {
     "name": "stdout",
     "output_type": "stream",
     "text": [
      "Calling target program-options parser\n",
      "Adding interface enp7s0 as port 0\n",
      "Adding interface enp8s0 as port 1\n"
     ]
    }
   ],
   "source": [
    "switch.upload_file('labs_files/lab1/main.p4', 'main.p4')\n",
    "stdout, stderr = switch.execute(f'p4c main.p4')\n",
    "stdout, stderr = switch.execute(f'sudo pkill simple_switch')\n",
    "stdout, stderr = switch.execute(f'sudo simple_switch -i 0@{switch_iface1_name} -i 1@{switch_iface2_name} main.json &')"
   ]
  },
  {
   "cell_type": "markdown",
   "id": "7bf4eabb-31cd-41c9-9fd1-b1c2b9d8b0d6",
   "metadata": {},
   "source": [
    "## Step 7.1: Populating table from the control plane\n",
    "\n",
    "In this step we will populate the forwarding table by executing a script. We will learn how to populate the tables manually in another lab."
   ]
  },
  {
   "cell_type": "code",
   "execution_count": 23,
   "id": "359e7d84-5089-4611-8c10-e29dbe4c74a6",
   "metadata": {
    "tags": []
   },
   "outputs": [
    {
     "name": "stdout",
     "output_type": "stream",
     "text": [
      "Obtaining JSON from switch...\n",
      "Done\n",
      "Control utility for runtime P4 table manipulation\n",
      "RuntimeCmd: Adding entry to lpm match table MyIngress.ipv4_lpm\n",
      "match key:           LPM-c0:a8:01:00/24\n",
      "action:              MyIngress.forward\n",
      "runtime data:        00:00:00:00:00:01\t00:00\n",
      "Entry has been added with handle 0\n",
      "RuntimeCmd: \n",
      "Obtaining JSON from switch...\n",
      "Done\n",
      "Control utility for runtime P4 table manipulation\n",
      "RuntimeCmd: Adding entry to lpm match table MyIngress.ipv4_lpm\n",
      "match key:           LPM-c0:a8:02:00/24\n",
      "action:              MyIngress.forward\n",
      "runtime data:        00:00:00:00:00:04\t00:01\n",
      "Entry has been added with handle 1\n",
      "RuntimeCmd: \n"
     ]
    }
   ],
   "source": [
    "switch.upload_file('labs_files/lab1/rules.sh', 'rules.sh')\n",
    "stdout, stderr = switch.execute('chmod +x rules.sh && ./rules.sh')"
   ]
  },
  {
   "cell_type": "markdown",
   "id": "e1158916-f42e-4f41-8b11-85d5bf8c7f1c",
   "metadata": {},
   "source": [
    "## Step 7.2: Running a ping test"
   ]
  },
  {
   "cell_type": "code",
   "execution_count": 24,
   "id": "dc4885f4-c56e-49bb-a84d-9b4dd4b5bb26",
   "metadata": {},
   "outputs": [
    {
     "name": "stdout",
     "output_type": "stream",
     "text": [
      "PING 192.168.2.10 (192.168.2.10) 56(84) bytes of data.\n",
      "64 bytes from 192.168.2.10: icmp_seq=1 ttl=63 time=9.27 ms\n",
      "64 bytes from 192.168.2.10: icmp_seq=2 ttl=63 time=8.51 ms\n",
      "64 bytes from 192.168.2.10: icmp_seq=3 ttl=63 time=8.63 ms\n",
      "\n",
      "--- 192.168.2.10 ping statistics ---\n",
      "3 packets transmitted, 3 received, 0% packet loss, time 2003ms\n",
      "rtt min/avg/max/mdev = 8.510/8.804/9.271/0.333 ms\n"
     ]
    }
   ],
   "source": [
    "server2_dest_ip = server2_ip.split('/')[0]\n",
    "stdout, stderr = server1.execute(f'ping {server2_dest_ip} -c 3')"
   ]
  },
  {
   "cell_type": "markdown",
   "id": "4479997c-f713-4b1b-a7fb-82c60c7952df",
   "metadata": {},
   "source": [
    "# Step 8: Running High Performance BMv2\n",
    "\n",
    "In this step, we will use the BMv2 switch with logging disabled. By disabling logging, the switch will be able to process traffic at higher rates. \n",
    "\n",
    "The binary of the BMv2 switch with logging disabled (*simple_switch_hp*) is located under *scripts/* directory. \n",
    "\n",
    "## Step 8.1: Uploading the binary to the switch \n",
    "The command below uploads the binary to the switch device. It also stops the previous instance of the switch."
   ]
  },
  {
   "cell_type": "code",
   "execution_count": 25,
   "id": "5c74036e-2dc5-4773-a74d-1a0c8d6e196f",
   "metadata": {},
   "outputs": [],
   "source": [
    "switch.upload_file('scripts/simple_switch_hp.gz', '/home/ubuntu/simple_switch_hp.gz')\n",
    "switch.execute('gzip -d simple_switch_hp.gz')\n",
    "switch.execute('chmod +x /home/ubuntu/simple_switch_hp')\n",
    "stdout, stderr = switch.execute(f'sudo pkill switch')"
   ]
  },
  {
   "cell_type": "markdown",
   "id": "d6e7a2e1-44a9-4557-93b4-0fe4b24a2b1a",
   "metadata": {},
   "source": [
    "## Step 8.2: Disable TCP offloading\n",
    "\n",
    "The command below disables TCP offloading. This step is crucial to get high rates."
   ]
  },
  {
   "cell_type": "code",
   "execution_count": 26,
   "id": "285a3644-f30f-4663-8338-96617520a18b",
   "metadata": {},
   "outputs": [],
   "source": [
    "switch.upload_file('scripts/disable_offload.sh', 'disable_offload.sh')\n",
    "stdout, stderr = switch.execute(f'sudo chmod +x ./disable_offload.sh && sudo ./disable_offload.sh {switch_iface1_name}', quiet=True)\n",
    "stdout, stderr = switch.execute(f'sudo chmod +x ./disable_offload.sh && sudo ./disable_offload.sh {switch_iface2_name}', quiet=True)"
   ]
  },
  {
   "cell_type": "markdown",
   "id": "0c2e933b-8a3b-4410-acab-4b4af0422161",
   "metadata": {},
   "source": [
    "## Step 8.3: Running the switch\n",
    "\n",
    "This will start the high performance switch and allocate the interfaces, then will push the rules from the control plane."
   ]
  },
  {
   "cell_type": "code",
   "execution_count": 27,
   "id": "ab56babb-db6e-4f81-852f-3e6627760232",
   "metadata": {},
   "outputs": [
    {
     "name": "stdout",
     "output_type": "stream",
     "text": [
      "Calling target program-options parser\n",
      "Adding interface enp7s0 as port 0\n",
      "Adding interface enp8s0 as port 1\n",
      "Obtaining JSON from switch...\n",
      "Done\n",
      "Control utility for runtime P4 table manipulation\n",
      "RuntimeCmd: Adding entry to lpm match table MyIngress.ipv4_lpm\n",
      "match key:           LPM-c0:a8:01:00/24\n",
      "action:              MyIngress.forward\n",
      "runtime data:        00:00:00:00:00:01\t00:00\n",
      "Entry has been added with handle 0\n",
      "RuntimeCmd: \n",
      "Obtaining JSON from switch...\n",
      "Done\n",
      "Control utility for runtime P4 table manipulation\n",
      "RuntimeCmd: Adding entry to lpm match table MyIngress.ipv4_lpm\n",
      "match key:           LPM-c0:a8:02:00/24\n",
      "action:              MyIngress.forward\n",
      "runtime data:        00:00:00:00:00:04\t00:01\n",
      "Entry has been added with handle 1\n",
      "RuntimeCmd: \n"
     ]
    }
   ],
   "source": [
    "stdout, stderr = switch.execute(f'sudo /home/ubuntu/simple_switch_hp -i 0@{switch_iface1_name} -i 1@{switch_iface2_name} main.json &')\n",
    "stdout, stderr = switch.execute('chmod +x rules.sh && ./rules.sh')"
   ]
  },
  {
   "cell_type": "markdown",
   "id": "29ee9671-e49a-45bc-a3f5-202578d58e5d",
   "metadata": {
    "tags": []
   },
   "source": [
    "## Step 8.4 Installing iPerf3\n",
    "iPerf3 will be installed on server1 and server2 nodes. We will use the APT package manager to install it. "
   ]
  },
  {
   "cell_type": "code",
   "execution_count": 28,
   "id": "c4053455-caf4-4820-a1b7-099c51092714",
   "metadata": {},
   "outputs": [],
   "source": [
    "stdout, stderr = server1.execute(f'sudo apt-get update && sudo apt-get install -y iperf3', quiet=True)\n",
    "stdout, stderr = server2.execute(f'sudo apt-get update && sudo apt-get install -y iperf3', quiet=True)"
   ]
  },
  {
   "cell_type": "markdown",
   "id": "d12a3147-43ff-4fb2-816e-d2ad139f756c",
   "metadata": {},
   "source": [
    "## Step 8.5: Starting iPerf3 on server2 \n",
    "\n",
    "iPerf3 will be started in server mode on server2. "
   ]
  },
  {
   "cell_type": "code",
   "execution_count": 29,
   "id": "7a8097d0-475d-4519-868d-0c39a7ebc31c",
   "metadata": {},
   "outputs": [
    {
     "data": {
      "text/plain": [
       "<Future at 0x7f52a838a800 state=running>"
      ]
     },
     "execution_count": 29,
     "metadata": {},
     "output_type": "execute_result"
    }
   ],
   "source": [
    "server2.execute_thread('iperf3 -s')"
   ]
  },
  {
   "cell_type": "markdown",
   "id": "99098f33-6fd9-41a8-9907-5992dac63f29",
   "metadata": {},
   "source": [
    "## Step 8.6: Starting iPerf3 client on server1 \n",
    "\n",
    "iPerf3 will be started in client mode on server1. It will connect to the iPerf3 server on server2."
   ]
  },
  {
   "cell_type": "code",
   "execution_count": 30,
   "id": "7c158c39-b61c-466a-91d2-f0e216a2417e",
   "metadata": {},
   "outputs": [
    {
     "name": "stdout",
     "output_type": "stream",
     "text": [
      "Connecting to host 192.168.2.10, port 5201\n",
      "[  5] local 192.168.1.10 port 60740 connected to 192.168.2.10 port 5201\n",
      "[  7] local 192.168.1.10 port 60744 connected to 192.168.2.10 port 5201\n",
      "[  9] local 192.168.1.10 port 60752 connected to 192.168.2.10 port 5201\n",
      "[ 11] local 192.168.1.10 port 60768 connected to 192.168.2.10 port 5201\n",
      "[ 13] local 192.168.1.10 port 60772 connected to 192.168.2.10 port 5201\n",
      "[ ID] Interval           Transfer     Bitrate         Retr  Cwnd\n",
      "[  5]   0.00-1.00   sec  29.3 MBytes   246 Mbits/sec  106    221 KBytes       \n",
      "[  7]   0.00-1.00   sec  23.1 MBytes   194 Mbits/sec  199    229 KBytes       \n",
      "[  9]   0.00-1.00   sec  10.4 MBytes  87.3 Mbits/sec   63   69.3 KBytes       \n",
      "[ 11]   0.00-1.00   sec  9.63 MBytes  80.8 Mbits/sec   85   62.2 KBytes       \n",
      "[ 13]   0.00-1.00   sec  12.9 MBytes   108 Mbits/sec  143   56.6 KBytes       \n",
      "[SUM]   0.00-1.00   sec  85.4 MBytes   716 Mbits/sec  596             \n",
      "- - - - - - - - - - - - - - - - - - - - - - - - -\n",
      "[  5]   1.00-2.00   sec  21.2 MBytes   178 Mbits/sec    3    151 KBytes       \n",
      "[  7]   1.00-2.00   sec  22.5 MBytes   189 Mbits/sec    4    156 KBytes       \n",
      "[  9]   1.00-2.00   sec  9.32 MBytes  78.2 Mbits/sec    3    112 KBytes       \n",
      "[ 11]   1.00-2.00   sec  8.20 MBytes  68.8 Mbits/sec   15   50.9 KBytes       \n",
      "[ 13]   1.00-2.00   sec  8.39 MBytes  70.4 Mbits/sec    3   70.7 KBytes       \n",
      "[SUM]   1.00-2.00   sec  69.7 MBytes   584 Mbits/sec   28             \n",
      "- - - - - - - - - - - - - - - - - - - - - - - - -\n",
      "[  5]   2.00-3.00   sec  20.0 MBytes   168 Mbits/sec    0    229 KBytes       \n",
      "[  7]   2.00-3.00   sec  15.0 MBytes   126 Mbits/sec    6    124 KBytes       \n",
      "[  9]   2.00-3.00   sec  11.2 MBytes  93.8 Mbits/sec    6    106 KBytes       \n",
      "[ 11]   2.00-3.00   sec  7.52 MBytes  63.1 Mbits/sec    1   99.0 KBytes       \n",
      "[ 13]   2.00-3.00   sec  8.45 MBytes  70.9 Mbits/sec    4   84.8 KBytes       \n",
      "[SUM]   2.00-3.00   sec  62.2 MBytes   521 Mbits/sec   17             \n",
      "- - - - - - - - - - - - - - - - - - - - - - - - -\n",
      "[  5]   3.00-4.00   sec  22.5 MBytes   189 Mbits/sec   17    226 KBytes       \n",
      "[  7]   3.00-4.00   sec  11.2 MBytes  94.4 Mbits/sec   14    116 KBytes       \n",
      "[  9]   3.00-4.00   sec  13.0 MBytes   109 Mbits/sec    4    140 KBytes       \n",
      "[ 11]   3.00-4.00   sec  10.3 MBytes  86.0 Mbits/sec   22    103 KBytes       \n",
      "[ 13]   3.00-4.00   sec  10.4 MBytes  87.6 Mbits/sec    5    127 KBytes       \n",
      "[SUM]   3.00-4.00   sec  67.5 MBytes   566 Mbits/sec   62             \n",
      "- - - - - - - - - - - - - - - - - - - - - - - - -\n",
      "[  5]   4.00-5.00   sec  22.5 MBytes   189 Mbits/sec    6    222 KBytes       \n",
      "[  7]   4.00-5.00   sec  12.5 MBytes   105 Mbits/sec    9    106 KBytes       \n",
      "[  9]   4.00-5.00   sec  12.2 MBytes   102 Mbits/sec   18   87.7 KBytes       \n",
      "[ 11]   4.00-5.00   sec  8.95 MBytes  75.1 Mbits/sec    6   80.6 KBytes       \n",
      "[ 13]   4.00-5.00   sec  11.3 MBytes  94.9 Mbits/sec   12   82.0 KBytes       \n",
      "[SUM]   4.00-5.00   sec  67.4 MBytes   566 Mbits/sec   51             \n",
      "- - - - - - - - - - - - - - - - - - - - - - - - -\n",
      "[  5]   5.00-6.00   sec  26.2 MBytes   220 Mbits/sec    0    301 KBytes       \n",
      "[  7]   5.00-6.00   sec  15.0 MBytes   126 Mbits/sec    0    185 KBytes       \n",
      "[  9]   5.00-6.00   sec  13.0 MBytes   109 Mbits/sec    0    167 KBytes       \n",
      "[ 11]   5.00-6.00   sec  12.3 MBytes   103 Mbits/sec    0    160 KBytes       \n",
      "[ 13]   5.00-6.00   sec  13.2 MBytes   111 Mbits/sec    0    161 KBytes       \n",
      "[SUM]   5.00-6.00   sec  79.8 MBytes   669 Mbits/sec    0             \n",
      "- - - - - - - - - - - - - - - - - - - - - - - - -\n",
      "[  5]   6.00-7.00   sec  28.8 MBytes   241 Mbits/sec    0    368 KBytes       \n",
      "[  7]   6.00-7.00   sec  18.8 MBytes   157 Mbits/sec    0    252 KBytes       \n",
      "[  9]   6.00-7.00   sec  17.8 MBytes   149 Mbits/sec    0    233 KBytes       \n",
      "[ 11]   6.00-7.00   sec  16.4 MBytes   138 Mbits/sec    0    226 KBytes       \n",
      "[ 13]   6.00-7.00   sec  16.1 MBytes   135 Mbits/sec    0    228 KBytes       \n",
      "[SUM]   6.00-7.00   sec  97.8 MBytes   820 Mbits/sec    0             \n",
      "- - - - - - - - - - - - - - - - - - - - - - - - -\n",
      "[  5]   7.00-8.00   sec  27.5 MBytes   231 Mbits/sec   11    205 KBytes       \n",
      "[  7]   7.00-8.00   sec  18.8 MBytes   157 Mbits/sec   11    102 KBytes       \n",
      "[  9]   7.00-8.00   sec  17.8 MBytes   150 Mbits/sec   15   97.6 KBytes       \n",
      "[ 11]   7.00-8.00   sec  17.3 MBytes   145 Mbits/sec   20    136 KBytes       \n",
      "[ 13]   7.00-8.00   sec  18.0 MBytes   151 Mbits/sec   11    136 KBytes       \n",
      "[SUM]   7.00-8.00   sec  99.3 MBytes   833 Mbits/sec   68             \n",
      "- - - - - - - - - - - - - - - - - - - - - - - - -\n",
      "[  5]   8.00-9.00   sec  18.8 MBytes   157 Mbits/sec   12    219 KBytes       \n",
      "[  7]   8.00-9.00   sec  11.2 MBytes  94.4 Mbits/sec    4    150 KBytes       \n",
      "[  9]   8.00-9.00   sec  14.0 MBytes   117 Mbits/sec    0    175 KBytes       \n",
      "[ 11]   8.00-9.00   sec  14.4 MBytes   120 Mbits/sec    4    165 KBytes       \n",
      "[ 13]   8.00-9.00   sec  13.2 MBytes   111 Mbits/sec    1    173 KBytes       \n",
      "[SUM]   8.00-9.00   sec  71.6 MBytes   600 Mbits/sec   21             \n",
      "- - - - - - - - - - - - - - - - - - - - - - - - -\n",
      "[  5]   9.00-10.00  sec  20.0 MBytes   168 Mbits/sec   17    194 KBytes       \n",
      "[  7]   9.00-10.00  sec  15.0 MBytes   126 Mbits/sec   16    137 KBytes       \n",
      "[  9]   9.00-10.00  sec  16.9 MBytes   142 Mbits/sec   12    161 KBytes       \n",
      "[ 11]   9.00-10.00  sec  15.7 MBytes   132 Mbits/sec   10    141 KBytes       \n",
      "[ 13]   9.00-10.00  sec  17.0 MBytes   142 Mbits/sec   12    126 KBytes       \n",
      "[SUM]   9.00-10.00  sec  84.6 MBytes   710 Mbits/sec   67             \n",
      "- - - - - - - - - - - - - - - - - - - - - - - - -\n",
      "[ ID] Interval           Transfer     Bitrate         Retr\n",
      "[  5]   0.00-10.00  sec   237 MBytes   199 Mbits/sec  172             sender\n",
      "[  5]   0.00-10.01  sec   234 MBytes   196 Mbits/sec                  receiver\n",
      "[  7]   0.00-10.00  sec   163 MBytes   137 Mbits/sec  263             sender\n",
      "[  7]   0.00-10.01  sec   160 MBytes   134 Mbits/sec                  receiver\n",
      "[  9]   0.00-10.00  sec   136 MBytes   114 Mbits/sec  121             sender\n",
      "[  9]   0.00-10.01  sec   134 MBytes   112 Mbits/sec                  receiver\n",
      "[ 11]   0.00-10.00  sec   121 MBytes   101 Mbits/sec  163             sender\n",
      "[ 11]   0.00-10.01  sec   119 MBytes   100 Mbits/sec                  receiver\n",
      "[ 13]   0.00-10.00  sec   129 MBytes   108 Mbits/sec  191             sender\n",
      "[ 13]   0.00-10.01  sec   127 MBytes   106 Mbits/sec                  receiver\n",
      "[SUM]   0.00-10.00  sec   785 MBytes   659 Mbits/sec  910             sender\n",
      "[SUM]   0.00-10.01  sec   774 MBytes   649 Mbits/sec                  receiver\n",
      "\n",
      "iperf Done.\n"
     ]
    }
   ],
   "source": [
    "stdout, stderr = server1.execute('iperf3 -c 192.168.2.10 -P 5')"
   ]
  },
  {
   "cell_type": "markdown",
   "id": "e92e3d97-a261-4c00-984c-2750cbd45064",
   "metadata": {
    "tags": []
   },
   "source": [
    "## Step 9: Delete the Slice\n",
    "\n",
    "This concludes Lab 1. Please delete your slice when you are done with your experiment."
   ]
  },
  {
   "cell_type": "code",
   "execution_count": 31,
   "id": "1f27f3fc-004f-46c2-984c-8c2a90883eb6",
   "metadata": {
    "tags": []
   },
   "outputs": [],
   "source": [
    "#from fabrictestbed_extensions.fablib.fablib import FablibManager as fablib_manager\n",
    "#fablib = fablib_manager()\n",
    "#slice = fablib.get_slice(name=\"lab1\")\n",
    "#slice.delete()"
   ]
  },
  {
   "cell_type": "code",
   "execution_count": null,
   "id": "fdd0ad2d-a82c-42e0-b426-b1c2b6350d79",
   "metadata": {},
   "outputs": [],
   "source": []
  }
 ],
 "metadata": {
  "kernelspec": {
   "display_name": "Python 3 (ipykernel)",
   "language": "python",
   "name": "python3"
  },
  "language_info": {
   "codemirror_mode": {
    "name": "ipython",
    "version": 3
   },
   "file_extension": ".py",
   "mimetype": "text/x-python",
   "name": "python",
   "nbconvert_exporter": "python",
   "pygments_lexer": "ipython3",
   "version": "3.10.6"
  }
 },
 "nbformat": 4,
 "nbformat_minor": 5
}
